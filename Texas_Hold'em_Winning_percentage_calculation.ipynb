{
  "nbformat": 4,
  "nbformat_minor": 0,
  "metadata": {
    "colab": {
      "provenance": []
    },
    "kernelspec": {
      "name": "python3",
      "display_name": "Python 3"
    },
    "language_info": {
      "name": "python"
    }
  },
  "cells": [
    {
      "cell_type": "code",
      "execution_count": 36,
      "metadata": {
        "colab": {
          "base_uri": "https://localhost:8080/"
        },
        "id": "7lLK2DELEWIj",
        "outputId": "e8b69ec7-3e2f-408c-ee38-45997fffa2c3"
      },
      "outputs": [
        {
          "output_type": "stream",
          "name": "stdout",
          "text": [
            "Win rate: 24.70%\n",
            "Recommendation: Fold\n"
          ]
        }
      ],
      "source": [
        "import random\n",
        "\n",
        "# Define the cards and suits\n",
        "suits = ['Hearts', 'Diamonds', 'Clubs', 'Spades']\n",
        "cards = ['2', '3', '4', '5', '6', '7', '8', '9', '10', 'J', 'Q', 'K', 'A']\n",
        "\n",
        "def generate_deck(exclude=[]):\n",
        "    deck = [{'Suit': s, 'Card': c} for s in suits for c in cards]\n",
        "    return [card for card in deck if card not in exclude]\n",
        "\n",
        "def hand_strength(hand):\n",
        "    values = [card['Card'] for card in hand]\n",
        "    suits = [card['Suit'] for card in hand]\n",
        "    value_counts = {card: values.count(card) for card in values}\n",
        "\n",
        "    # Check for Royal Flush\n",
        "    if len(set(suits)) == 1 and all(card in values for card in ['10', 'J', 'Q', 'K', 'A']):\n",
        "        return 10000\n",
        "\n",
        "    # Check for Straight Flush\n",
        "    if len(set(suits)) == 1 and is_straight(values):\n",
        "        return 9000 + high_card_value(values)\n",
        "\n",
        "    # Check for Four of a Kind\n",
        "    if 4 in value_counts.values():\n",
        "        return 8000 + high_card_value(values)\n",
        "\n",
        "    # Check for Full House\n",
        "    if 3 in value_counts.values() and 2 in value_counts.values():\n",
        "        return 7000 + high_card_value(values)\n",
        "\n",
        "    # Check for Flush\n",
        "    if len(set(suits)) == 1:\n",
        "        return 6000 + high_card_value(values)\n",
        "\n",
        "    # Check for Straight\n",
        "    if is_straight(values):\n",
        "        return 5000 + high_card_value(values)\n",
        "\n",
        "    # Check for Three of a Kind\n",
        "    if 3 in value_counts.values():\n",
        "        return 4000 + high_card_value(values)\n",
        "\n",
        "    # Check for Two Pair\n",
        "    if list(value_counts.values()).count(2) == 2:\n",
        "        return 3000 + high_card_value(values)\n",
        "\n",
        "    # Check for One Pair\n",
        "    if 2 in value_counts.values():\n",
        "        return 2000 + high_card_value(values)\n",
        "\n",
        "    # Return high card value\n",
        "    return high_card_value(values)\n",
        "\n",
        "def is_straight(values):\n",
        "    value_indices = sorted([cards.index(v) for v in values])\n",
        "    return max(value_indices) - min(value_indices) == 4 and len(set(values)) == 5\n",
        "\n",
        "def high_card_value(values):\n",
        "    return max([cards.index(v) for v in values])\n",
        "\n",
        "def evaluate_hand(player_hand, community_cards):\n",
        "    return hand_strength(player_hand + community_cards)\n",
        "\n",
        "def monte_carlo_simulation(player_hand, community_cards, n=10000):\n",
        "    wins = 0\n",
        "    player_strength = evaluate_hand(player_hand, community_cards)\n",
        "    for _ in range(n):\n",
        "        deck = generate_deck(exclude=player_hand + community_cards)\n",
        "        random.shuffle(deck)\n",
        "        remaining_community = 5 - len(community_cards)\n",
        "        simulated_community = random.sample(deck, remaining_community)\n",
        "        deck = [card for card in deck if card not in simulated_community]\n",
        "        simulated_community = community_cards + simulated_community\n",
        "        opponent_hand = random.sample(deck, 2)\n",
        "        opponent_strength = evaluate_hand(opponent_hand, simulated_community)\n",
        "        if player_strength > opponent_strength:\n",
        "            wins += 1\n",
        "    win_rate = wins / n\n",
        "    return win_rate\n",
        "\n",
        "\n",
        "# Example usage\n",
        "player_hand = [{'Suit': 'Diamonds', 'Card': '2'}, {'Suit': 'Hearts', 'Card': 'K'}]\n",
        "community_cards = [{'Suit': 'Hearts', 'Card': 'J'}, {'Suit': 'Hearts', 'Card': 'Q'}, {'Suit': 'Hearts', 'Card': 'K'}]  #'Hearts', 'Diamonds', 'Clubs', 'Spades'\n",
        "\n",
        "win_rate = monte_carlo_simulation(player_hand, community_cards)\n",
        "print(f'Win rate: {win_rate * 100:.2f}%')\n",
        "\n",
        "if win_rate > 0.6:\n",
        "    print('Recommendation: Raise')\n",
        "elif win_rate > 0.4:\n",
        "    print('Recommendation: Call')\n",
        "else:\n",
        "    print('Recommendation: Fold')\n"
      ]
    }
  ]
}